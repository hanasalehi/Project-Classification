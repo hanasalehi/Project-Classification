{
 "cells": [
  {
   "cell_type": "markdown",
   "id": "7e1a7927-94ff-48f8-b53e-55a3ad731b23",
   "metadata": {},
   "source": [
    "## Predicting coronary artery disease (CAD) diagnosis from patient physiological parameters via K-nearest neighbour classification tools."
   ]
  },
  {
   "cell_type": "markdown",
   "id": "c34d7693-abc8-4120-97e5-d26d5c649e82",
   "metadata": {},
   "source": [
    "### Introduction\n",
    "\n",
    "Coronary artery disease (CAD) is a form of heart disease derived from the constriction of coronary arteries and the narrowing of blood vessels, which can lead to restricted blood flow through the heart (CDC, 2021). Over time, this restriction can weaken the heart and lead to heart failure. \n",
    "\n",
    "There are several factors that influence the risk of developing CAD. For example, relationships exist between a patient’s heart health and their age, resting blood pressure, cholesterol level, and maximum heart rate, to name a few.  Since it is estimated that 47% of all Americans have at least one of these risk factors for the disease (CDC, 2021), this classification model aims to answer the following research question: **Can the diagnosis of coronary artery disease (diagnosed when blood vessels narrow >50%) be accurately predicted based on patient physiological parameters?**\n",
    "\n",
    "The dataset used to answer this question is a multivariate dataset derived from Detrano, R. et al, a paper published in 1988 used to apply a probability algorithm to the diagnosis of coronary artery disease and donated to University of California Irvine’s Machine Learning Repository.\n",
    "\n",
    "\n"
   ]
  },
  {
   "cell_type": "markdown",
   "id": "377963e9-6769-4ddc-8cb2-dd3de302a2b1",
   "metadata": {},
   "source": [
    "### Methods\n",
    "\n",
    "After cleaning and wrangling the data, the data is split into training and testing data sets. Classification with K-nearest neighbours will be used to compute the response variable (which is the presence of heart disease, indicated in the code as “healthy” or “sick”) based on previous diagnoses in the training data set that align most closely with the predictor variables given in the new observation. The predictor variables are age, resting blood pressure (bp), cholesterol, and maximum heart rate. These variables are chosen because they are most relevant to the focus of the study as numerical physiological parameters. \n",
    "\n",
    "Conversely, several variables are excluded that are present in the original data set, including sex, chest pain type, fasting blood sugar, resting electrocardiographic results, exercise induced angina, the slope of the peak exercise ST segment, and the category of defect. This is because they are all presented as categorical values, so summary statistics and calculations for the straight line distance would not be operational in a K-nearest neighbour classification using the tools learned in class. The ST segment depression induced by the exercise variable and number of blood vessels (numerical) are excluded as it is not clear what they represent in the dataset and is not directly relevant since measures induced by exercise are not the focus of the current study.\n",
    "\n",
    "The classifier is built by developing a workflow that combines our model specification (to specify that this is a classification model using the “kknn” R package, to set number of neighbors we want our classifier to predict from, and to indicate the weight each neighboring point should have) and a recipe (to preprocess the training set and standardize it, preventing our classifier from placing importance on variables whose observations have larger values). The training set is split into a training set and a validation set to optimize the value of K by cross-validation. \n",
    "\n",
    "Subsequently, the model is fit to the training set. Once the classifier object is determined, it is used to predict class labels for the test set and to examine the accuracy and confusion matrix, evaluating the classifier’s performance.\n",
    "\n",
    "From this model, a series of scatterplots visualize the relationships between two parameters that our classifier accounts for (e.g. cholesterol levels and age), with the diagnosis or absence of being coloured using a color blind-friendly palette. Significant patterns will be described from the comparison of these variables. A bar graph is also developed to visually show the confusion matrix.\n",
    "\n"
   ]
  },
  {
   "cell_type": "markdown",
   "id": "d781e011-a21a-4379-a9c3-c9bc86e5d182",
   "metadata": {},
   "source": [
    "**Importing libraries**"
   ]
  },
  {
   "cell_type": "code",
   "execution_count": 5,
   "id": "b152ba7b-878a-4171-b64a-b44728e6514d",
   "metadata": {
    "tags": []
   },
   "outputs": [
    {
     "name": "stderr",
     "output_type": "stream",
     "text": [
      "── \u001b[1mAttaching core tidyverse packages\u001b[22m ──────────────────────── tidyverse 2.0.0 ──\n",
      "\u001b[32m✔\u001b[39m \u001b[34mdplyr    \u001b[39m 1.1.3     \u001b[32m✔\u001b[39m \u001b[34mreadr    \u001b[39m 2.1.4\n",
      "\u001b[32m✔\u001b[39m \u001b[34mforcats  \u001b[39m 1.0.0     \u001b[32m✔\u001b[39m \u001b[34mstringr  \u001b[39m 1.5.0\n",
      "\u001b[32m✔\u001b[39m \u001b[34mggplot2  \u001b[39m 3.4.3     \u001b[32m✔\u001b[39m \u001b[34mtibble   \u001b[39m 3.2.1\n",
      "\u001b[32m✔\u001b[39m \u001b[34mlubridate\u001b[39m 1.9.2     \u001b[32m✔\u001b[39m \u001b[34mtidyr    \u001b[39m 1.3.0\n",
      "\u001b[32m✔\u001b[39m \u001b[34mpurrr    \u001b[39m 1.0.2     \n",
      "── \u001b[1mConflicts\u001b[22m ────────────────────────────────────────── tidyverse_conflicts() ──\n",
      "\u001b[31m✖\u001b[39m \u001b[34mdplyr\u001b[39m::\u001b[32mfilter()\u001b[39m masks \u001b[34mstats\u001b[39m::filter()\n",
      "\u001b[31m✖\u001b[39m \u001b[34mdplyr\u001b[39m::\u001b[32mlag()\u001b[39m    masks \u001b[34mstats\u001b[39m::lag()\n",
      "\u001b[36mℹ\u001b[39m Use the conflicted package (\u001b[3m\u001b[34m<http://conflicted.r-lib.org/>\u001b[39m\u001b[23m) to force all conflicts to become errors\n",
      "── \u001b[1mAttaching packages\u001b[22m ────────────────────────────────────── tidymodels 1.1.1 ──\n",
      "\n",
      "\u001b[32m✔\u001b[39m \u001b[34mbroom       \u001b[39m 1.0.5     \u001b[32m✔\u001b[39m \u001b[34mrsample     \u001b[39m 1.2.0\n",
      "\u001b[32m✔\u001b[39m \u001b[34mdials       \u001b[39m 1.2.0     \u001b[32m✔\u001b[39m \u001b[34mtune        \u001b[39m 1.1.2\n",
      "\u001b[32m✔\u001b[39m \u001b[34minfer       \u001b[39m 1.0.4     \u001b[32m✔\u001b[39m \u001b[34mworkflows   \u001b[39m 1.1.3\n",
      "\u001b[32m✔\u001b[39m \u001b[34mmodeldata   \u001b[39m 1.2.0     \u001b[32m✔\u001b[39m \u001b[34mworkflowsets\u001b[39m 1.0.1\n",
      "\u001b[32m✔\u001b[39m \u001b[34mparsnip     \u001b[39m 1.1.1     \u001b[32m✔\u001b[39m \u001b[34myardstick   \u001b[39m 1.2.0\n",
      "\u001b[32m✔\u001b[39m \u001b[34mrecipes     \u001b[39m 1.0.8     \n",
      "\n",
      "── \u001b[1mConflicts\u001b[22m ───────────────────────────────────────── tidymodels_conflicts() ──\n",
      "\u001b[31m✖\u001b[39m \u001b[34mscales\u001b[39m::\u001b[32mdiscard()\u001b[39m masks \u001b[34mpurrr\u001b[39m::discard()\n",
      "\u001b[31m✖\u001b[39m \u001b[34mdplyr\u001b[39m::\u001b[32mfilter()\u001b[39m   masks \u001b[34mstats\u001b[39m::filter()\n",
      "\u001b[31m✖\u001b[39m \u001b[34mrecipes\u001b[39m::\u001b[32mfixed()\u001b[39m  masks \u001b[34mstringr\u001b[39m::fixed()\n",
      "\u001b[31m✖\u001b[39m \u001b[34mdplyr\u001b[39m::\u001b[32mlag()\u001b[39m      masks \u001b[34mstats\u001b[39m::lag()\n",
      "\u001b[31m✖\u001b[39m \u001b[34myardstick\u001b[39m::\u001b[32mspec()\u001b[39m masks \u001b[34mreadr\u001b[39m::spec()\n",
      "\u001b[31m✖\u001b[39m \u001b[34mrecipes\u001b[39m::\u001b[32mstep()\u001b[39m   masks \u001b[34mstats\u001b[39m::step()\n",
      "\u001b[34m•\u001b[39m Search for functions across packages at \u001b[32mhttps://www.tidymodels.org/find/\u001b[39m\n",
      "\n",
      "Updating HTML index of packages in '.Library'\n",
      "\n",
      "Making 'packages.html' ...\n",
      " done\n",
      "\n",
      "Updating HTML index of packages in '.Library'\n",
      "\n",
      "Making 'packages.html' ...\n",
      " done\n",
      "\n",
      "Updating HTML index of packages in '.Library'\n",
      "\n",
      "Making 'packages.html' ...\n",
      " done\n",
      "\n",
      "also installing the dependencies ‘labelled’, ‘broom.helpers’, ‘ggplot2’, ‘ggstats’\n",
      "\n",
      "\n",
      "Updating HTML index of packages in '.Library'\n",
      "\n",
      "Making 'packages.html' ...\n",
      " done\n",
      "\n",
      "\n",
      "Attaching package: ‘cowplot’\n",
      "\n",
      "\n",
      "The following object is masked from ‘package:lubridate’:\n",
      "\n",
      "    stamp\n",
      "\n",
      "\n",
      "Registered S3 method overwritten by 'GGally':\n",
      "  method from   \n",
      "  +.gg   ggplot2\n",
      "\n"
     ]
    }
   ],
   "source": [
    "library(tidyverse)\n",
    "library(repr)\n",
    "library(dplyr)\n",
    "library(tidymodels)\n",
    "library(infer)\n",
    "library(ggplot2)\n",
    "\n",
    "install.packages(\"kknn\")\n",
    "install.packages(\"stringr\")\n",
    "install.packages(\"cowplot\")\n",
    "install.packages(\"GGally\")\n",
    "\n",
    "library(stringr)\n",
    "library(kknn)\n",
    "library(cowplot)\n",
    "library(GGally)"
   ]
  },
  {
   "cell_type": "markdown",
   "id": "099bfaa6-fdd3-43e3-9039-794f2f4a9044",
   "metadata": {},
   "source": [
    "**Demonstrate that the dataset can be read from the web into R**"
   ]
  },
  {
   "cell_type": "code",
   "execution_count": 6,
   "id": "b0126ea5-6bdb-4266-990c-16134bc96dd4",
   "metadata": {
    "tags": []
   },
   "outputs": [
    {
     "name": "stderr",
     "output_type": "stream",
     "text": [
      "\n",
      "\u001b[36m──\u001b[39m \u001b[1mColumn specification\u001b[22m \u001b[36m────────────────────────────────────────────────────────\u001b[39m\n",
      "cols(\n",
      "  `63.0` = \u001b[32mcol_double()\u001b[39m,\n",
      "  male = \u001b[31mcol_character()\u001b[39m,\n",
      "  angina = \u001b[31mcol_character()\u001b[39m,\n",
      "  `145.0` = \u001b[32mcol_double()\u001b[39m,\n",
      "  `233.0` = \u001b[32mcol_double()\u001b[39m,\n",
      "  true = \u001b[31mcol_character()\u001b[39m,\n",
      "  hyp = \u001b[31mcol_character()\u001b[39m,\n",
      "  `150.0` = \u001b[32mcol_double()\u001b[39m,\n",
      "  fal = \u001b[31mcol_character()\u001b[39m,\n",
      "  `2.3` = \u001b[32mcol_double()\u001b[39m,\n",
      "  down = \u001b[31mcol_character()\u001b[39m,\n",
      "  `0.0` = \u001b[31mcol_character()\u001b[39m,\n",
      "  fix = \u001b[31mcol_character()\u001b[39m,\n",
      "  buff = \u001b[31mcol_character()\u001b[39m,\n",
      "  H = \u001b[31mcol_character()\u001b[39m\n",
      ")\n",
      "\n"
     ]
    }
   ],
   "source": [
    "# downloading data to fiel_path\n",
    "url <- \"https://archive.ics.uci.edu/static/public/45/heart+disease.zip\"\n",
    "temp_file <- tempfile(fileext = \".zip\")\n",
    "download.file(url, destfile = temp_file, mode = \"wb\")\n",
    "unzip(temp_file, exdir = \"GroupProject/heart_data\")\n",
    "file_path <- \"GroupProject/heart_data/cleve.mod\"\n",
    "\n",
    "\n",
    "# reading data into heart_data\n",
    "heart_data <- read_table(file_path, skip = 20)"
   ]
  },
  {
   "cell_type": "markdown",
   "id": "8bcdc44b-a5ed-4f56-9cf1-7f76e6999c05",
   "metadata": {},
   "source": [
    "**Clean and wrangle your data into a tidy format**"
   ]
  },
  {
   "cell_type": "code",
   "execution_count": 7,
   "id": "935e9153-6f1c-46f8-b343-f2f328df37f2",
   "metadata": {
    "tags": []
   },
   "outputs": [
    {
     "data": {
      "text/html": [
       "<table class=\"dataframe\">\n",
       "<caption>A tibble: 6 × 6</caption>\n",
       "<thead>\n",
       "\t<tr><th scope=col>age</th><th scope=col>sex</th><th scope=col>resting_bp</th><th scope=col>cholesterol</th><th scope=col>max_heart_rate</th><th scope=col>healthy</th></tr>\n",
       "\t<tr><th scope=col>&lt;dbl&gt;</th><th scope=col>&lt;chr&gt;</th><th scope=col>&lt;dbl&gt;</th><th scope=col>&lt;dbl&gt;</th><th scope=col>&lt;dbl&gt;</th><th scope=col>&lt;chr&gt;</th></tr>\n",
       "</thead>\n",
       "<tbody>\n",
       "\t<tr><td>67</td><td>male</td><td>160</td><td>286</td><td>108</td><td>sick</td></tr>\n",
       "\t<tr><td>67</td><td>male</td><td>120</td><td>229</td><td>129</td><td>sick</td></tr>\n",
       "\t<tr><td>37</td><td>male</td><td>130</td><td>250</td><td>187</td><td>buff</td></tr>\n",
       "\t<tr><td>41</td><td>fem </td><td>130</td><td>204</td><td>172</td><td>buff</td></tr>\n",
       "\t<tr><td>56</td><td>male</td><td>120</td><td>236</td><td>178</td><td>buff</td></tr>\n",
       "\t<tr><td>62</td><td>fem </td><td>140</td><td>268</td><td>160</td><td>sick</td></tr>\n",
       "</tbody>\n",
       "</table>\n"
      ],
      "text/latex": [
       "A tibble: 6 × 6\n",
       "\\begin{tabular}{llllll}\n",
       " age & sex & resting\\_bp & cholesterol & max\\_heart\\_rate & healthy\\\\\n",
       " <dbl> & <chr> & <dbl> & <dbl> & <dbl> & <chr>\\\\\n",
       "\\hline\n",
       "\t 67 & male & 160 & 286 & 108 & sick\\\\\n",
       "\t 67 & male & 120 & 229 & 129 & sick\\\\\n",
       "\t 37 & male & 130 & 250 & 187 & buff\\\\\n",
       "\t 41 & fem  & 130 & 204 & 172 & buff\\\\\n",
       "\t 56 & male & 120 & 236 & 178 & buff\\\\\n",
       "\t 62 & fem  & 140 & 268 & 160 & sick\\\\\n",
       "\\end{tabular}\n"
      ],
      "text/markdown": [
       "\n",
       "A tibble: 6 × 6\n",
       "\n",
       "| age &lt;dbl&gt; | sex &lt;chr&gt; | resting_bp &lt;dbl&gt; | cholesterol &lt;dbl&gt; | max_heart_rate &lt;dbl&gt; | healthy &lt;chr&gt; |\n",
       "|---|---|---|---|---|---|\n",
       "| 67 | male | 160 | 286 | 108 | sick |\n",
       "| 67 | male | 120 | 229 | 129 | sick |\n",
       "| 37 | male | 130 | 250 | 187 | buff |\n",
       "| 41 | fem  | 130 | 204 | 172 | buff |\n",
       "| 56 | male | 120 | 236 | 178 | buff |\n",
       "| 62 | fem  | 140 | 268 | 160 | sick |\n",
       "\n"
      ],
      "text/plain": [
       "  age sex  resting_bp cholesterol max_heart_rate healthy\n",
       "1 67  male 160        286         108            sick   \n",
       "2 67  male 120        229         129            sick   \n",
       "3 37  male 130        250         187            buff   \n",
       "4 41  fem  130        204         172            buff   \n",
       "5 56  male 120        236         178            buff   \n",
       "6 62  fem  140        268         160            sick   "
      ]
     },
     "metadata": {},
     "output_type": "display_data"
    }
   ],
   "source": [
    "# assigning  names to each column\n",
    "names <- c(\"age\",\"sex\",\"chest_pain_type\",\"resting_bp\",\n",
    "                    \"cholesterol\",\"fasting_blood_sugar\", \"resting_ecg\",\n",
    "                    \"max_heart_rate\",\"exercise_induced_angina\",\"oldpeak\",\n",
    "                    \"slope\",\"number_of_vessels_colored\",\"thal\",\"healthy\")\n",
    "colnames(heart_data) <- names\n",
    "\n",
    "# selecting useful columns (see below for justification of exclusion of oldpeak and slope)\n",
    "heart_data <- heart_data|> \n",
    "    select(age,sex,resting_bp,cholesterol,max_heart_rate, healthy)\n",
    "\n",
    "head(heart_data)"
   ]
  },
  {
   "cell_type": "code",
   "execution_count": 8,
   "id": "6564ae84-3f55-4258-96eb-036b28be5fb3",
   "metadata": {
    "tags": []
   },
   "outputs": [
    {
     "ename": "ERROR",
     "evalue": "Error in parse(text = x, srcfile = src): <text>:1:1: unexpected '^'\n1: **\n    ^\n",
     "output_type": "error",
     "traceback": [
      "Error in parse(text = x, srcfile = src): <text>:1:1: unexpected '^'\n1: **\n    ^\nTraceback:\n"
     ]
    }
   ],
   "source": [
    "** table 1 **"
   ]
  },
  {
   "cell_type": "markdown",
   "id": "a9efd2f8-13f6-4dae-be8a-d593ad539a19",
   "metadata": {},
   "source": [
    "**Spliting data**"
   ]
  },
  {
   "cell_type": "code",
   "execution_count": null,
   "id": "2b35df52-0ec4-416f-9f5a-9c8f56062ae6",
   "metadata": {
    "tags": []
   },
   "outputs": [],
   "source": [
    "# splitting data into training and testing\n",
    "set.seed(2004)\n",
    "\n",
    "#Turning healthy and sex into factors\n",
    "\n",
    "heart_data |>\n",
    "  distinct(healthy)\n",
    "heart_data <- heart_data |>\n",
    "  mutate(healthy = as_factor(healthy)) |>\n",
    "  mutate(healthy = fct_recode(healthy, \"sick\" = \"sick\", \"healthy\" = \"buff\"))\n",
    "\n",
    "heart_data <-heart_data|>\n",
    "  mutate(sex=as_factor(sex))|>\n",
    "  mutate(sex = fct_recode(sex, \"male\" = \"male\", \"female\" = \"fem\"))\n",
    "\n",
    "head(heart_data)\n",
    "\n",
    "\n",
    "heart_disease_split <- initial_split(heart_data,prop = 0.75, strata = healthy)\n",
    "heart_disease_train <- training(heart_disease_split)\n",
    "heart_disease_test <- testing(heart_disease_split)"
   ]
  },
  {
   "cell_type": "code",
   "execution_count": null,
   "id": "b2fe0f15-85ee-4f34-a29c-ad4d752a9b8c",
   "metadata": {
    "tags": []
   },
   "outputs": [],
   "source": [
    "**Table 2**"
   ]
  },
  {
   "cell_type": "raw",
   "id": "285d9bd5-bc83-435d-82f2-91d30ce9718d",
   "metadata": {},
   "source": [
    "**Summarizing training data**"
   ]
  },
  {
   "cell_type": "code",
   "execution_count": null,
   "id": "6341ebc3-449e-4acf-83f6-f4848a4b93c4",
   "metadata": {
    "tags": []
   },
   "outputs": [],
   "source": [
    "# I plan to use Trestbps, Cholesteral and Max_Heart_Rate as predictors\n",
    "# None of the rows have missing data since we already addressed this issue when importing the data\n",
    "# Datasets below shows the count for healhty and sick observations and mean of each of our predictors \n",
    "\n",
    "\n",
    "heart_disease_info <- heart_disease_train |>\n",
    "    mutate(observation_count = n()) |>\n",
    "    mutate(mean_resting_bp = mean(resting_bp)) |>\n",
    "    mutate(mean_cholesterol = mean(cholesterol)) |>\n",
    "    mutate(mean_max_heart_rate = mean(max_heart_rate)) |>\n",
    "    mutate(mean_age = mean(age)) |>\n",
    "    #mutate(mean_number_of_blood_vesels = mean(number_of_vessels_colored)) |>\n",
    "    select(observation_count,mean_age,mean_resting_bp,mean_cholesterol,mean_max_heart_rate) |>\n",
    "    distinct()\n",
    "\n",
    "sick_data <- heart_disease_train |>\n",
    "    filter(healthy == \"sick\") |>\n",
    "    mutate(observation_count = n()) |>\n",
    "    mutate(sick_mean_resting_bp = mean(resting_bp)) |>\n",
    "    mutate(sick_mean_cholesterol = mean(cholesterol)) |>\n",
    "    mutate(sick_mean_max_heart_rate = mean(max_heart_rate)) |>\n",
    "    mutate(sick_mean_age = mean(age)) |>\n",
    "    #mutate(sick_mean_number_of_blood_vesels = mean(number_of_vessels_colored)) |>\n",
    "    select(observation_count,sick_mean_age,sick_mean_resting_bp,sick_mean_cholesterol,sick_mean_max_heart_rate) |>\n",
    "    distinct()\n",
    "\n",
    "healthy_data <- heart_disease_train |>\n",
    "    filter(healthy == \"buff\") |>\n",
    "    mutate(observation_count = n()) |>\n",
    "    mutate(healthy_mean_resting_bp = mean(resting_bp)) |>\n",
    "    mutate(healthy_mean_cholesterol = mean(cholesterol)) |>\n",
    "    mutate(healthy_mean_max_heart_rate = mean(max_heart_rate)) |>\n",
    "    mutate(healthy_mean_age = mean(age)) |>\n",
    "    #mutate(healthy_mean_number_of_blood_vesels = mean(healthy_number_of_vessels_colored)) |>\n",
    "    select(observation_count,healthy_mean_age,healthy_mean_resting_bp,healthy_mean_cholesterol,healthy_mean_max_heart_rate) |>\n",
    "    distinct()\n",
    "\n",
    "heart_disease_info\n",
    "sick_data\n",
    "healthy_data"
   ]
  },
  {
   "cell_type": "code",
   "execution_count": null,
   "id": "d45eccc6-b75a-4854-909e-b80a3f789a67",
   "metadata": {},
   "outputs": [],
   "source": [
    "**table 3**"
   ]
  },
  {
   "cell_type": "code",
   "execution_count": null,
   "id": "7f941a2b-f401-4720-bd52-4572ddc8db47",
   "metadata": {
    "tags": []
   },
   "outputs": [],
   "source": [
    "#summarizing the data by getting number of sick and healthy\n",
    "healthy_proportions <- heart_disease_train |>\n",
    "                      group_by(healthy) |>\n",
    "                      summarize(n = n()) |>\n",
    "                      mutate(percent = 100*n/nrow(heart_disease_train))\n",
    "healthy_proportions"
   ]
  },
  {
   "cell_type": "code",
   "execution_count": null,
   "id": "8c09b317-cd70-414f-9186-4b3117a4e34e",
   "metadata": {},
   "outputs": [],
   "source": [
    "**table 4**"
   ]
  },
  {
   "cell_type": "code",
   "execution_count": null,
   "id": "784eb0ea-173d-40cb-83ce-1499cbf00be1",
   "metadata": {
    "tags": []
   },
   "outputs": [],
   "source": [
    "#Classifying Part A: choosing the K value\n",
    "set.seed(1920)\n",
    "heart_recipe <- recipe(healthy ~ age+resting_bp+cholesterol+max_heart_rate, data = heart_disease_train) |>\n",
    "  step_scale(all_predictors()) |>\n",
    "  step_center(all_predictors())\n",
    "\n",
    "knn_spec <- nearest_neighbor(weight_func = \"rectangular\", \n",
    "                             neighbors = tune()) |>\n",
    "  set_engine(\"kknn\") |>\n",
    "  set_mode(\"classification\")\n",
    "\n",
    "heart_vfold <- vfold_cv(heart_disease_train, v = 10, strata = healthy)\n",
    "k_vals <- tibble(neighbors = seq(from = 1, to = 100, by = 1))\n",
    "\n",
    "knn_results <- workflow() |>\n",
    "  add_recipe(heart_recipe) |>\n",
    "  add_model(knn_spec) |>\n",
    "  tune_grid(resamples = heart_vfold, grid = k_vals) |>\n",
    "  collect_metrics() \n",
    "\n",
    "accuracies <- knn_results |>\n",
    "  filter(.metric == \"accuracy\")\n",
    "\n",
    "accuracy_vs_k <- ggplot(accuracies, aes(x = neighbors, y = mean)) +\n",
    "  geom_point() +\n",
    "  geom_line() +\n",
    "  labs(x = \"Neighbors\", y = \"Accuracy Estimate\", caption = \"figure 1\") + \n",
    "  theme(text = element_text(size = 12))\n",
    "\n",
    "accuracy_vs_k"
   ]
  },
  {
   "cell_type": "markdown",
   "id": "a35b6c68-54ea-4144-81b7-e2002c0c54c8",
   "metadata": {},
   "source": [
    "**Choosing our K**: \n",
    "Looking at the plot above, we can see that setting the K=19 will give us the highest accuracy which is at about 68%. \n",
    "Therefore we choose K to be 19. "
   ]
  },
  {
   "cell_type": "code",
   "execution_count": null,
   "id": "ad985e65-ebc8-4217-9af1-64bdf403f1cf",
   "metadata": {
    "tags": []
   },
   "outputs": [],
   "source": [
    "#Classifying the data\n",
    "knn_spec <- nearest_neighbor(weight_func = \"rectangular\", neighbors = 19) |>\n",
    "  set_engine(\"kknn\") |>\n",
    "  set_mode(\"classification\")\n",
    "\n",
    "knn_fit <- workflow() |>\n",
    "  add_recipe(heart_recipe) |>\n",
    "  add_model(knn_spec) |>\n",
    "  fit(data = heart_disease_train)\n",
    "knn_fit\n",
    "\n",
    "\n",
    "heart_test_predictions <- predict(knn_fit, heart_disease_test) |>\n",
    "  bind_cols(heart_disease_test)\n",
    "\n",
    "heart_test_predictions\n",
    "\n",
    "heart_test_predictions |>\n",
    "  metrics(truth = healthy, estimate = .pred_class) |>\n",
    "  filter(.metric == \"accuracy\")\n",
    "\n",
    "\n",
    "confusion <- heart_test_predictions |>\n",
    "             conf_mat(truth = healthy, estimate = .pred_class)\n",
    "confusion"
   ]
  },
  {
   "cell_type": "code",
   "execution_count": null,
   "id": "4b0dea43-9d17-4b36-a464-b2234dee2cfd",
   "metadata": {
    "tags": []
   },
   "outputs": [],
   "source": [
    "#Calculating the accuracy, precision, and recall in order to better understand the errors most important in our application. \n",
    "\n",
    "Accuracy<- (17+34)/(17+7+18+34)\n",
    "Accuracy\n",
    "#67%\n",
    "\n",
    "Precision<-17/(17+7)\n",
    "Precision\n",
    "#71%\n",
    "\n",
    "Recall<-17/(17+18)\n",
    "Recall \n",
    "#49%"
   ]
  },
  {
   "cell_type": "code",
   "execution_count": null,
   "id": "7f258c30-0bfa-4bce-9a15-91c5ed145186",
   "metadata": {},
   "outputs": [],
   "source": [
    "**table 5**"
   ]
  },
  {
   "cell_type": "code",
   "execution_count": null,
   "id": "74bb851d-03c2-4aae-8bfa-0619b7c8cdc2",
   "metadata": {
    "tags": []
   },
   "outputs": [],
   "source": [
    "#Generating a bar graph to show how accurate our classifier was compared to the actual test observations\n",
    "bar_plot <- heart_test_predictions |>\n",
    "    ggplot(aes(x = healthy,fill = .pred_class)) +\n",
    "    geom_bar(position = \"dodge\", color = \"black\") +\n",
    "    labs(title = \"Assessing the Accuracy of CAD Diagnosis Predictions Based on Actual Observations\", \n",
    "         x = \"Actual Observations\", \n",
    "         y = \"Count\",\n",
    "         fill = \"CAD Diagnosis\",\n",
    "         caption = \"figure 2\")\n",
    "\n",
    "bar_plot"
   ]
  },
  {
   "cell_type": "code",
   "execution_count": null,
   "id": "c5960ffe-edc6-4ce1-b22c-cc6f21270ab0",
   "metadata": {
    "tags": []
   },
   "outputs": [],
   "source": [
    "#Generating the scatterplots to compare each predictor with each other\n",
    "options(repr.plot.height = 3, repr.plot.width = 4)\n",
    "\n",
    "age_cholesterol_plot <- heart_test_predictions |>\n",
    "    ggplot(aes(x = cholesterol, y = age, color = healthy)) +\n",
    "    geom_point(alpha = 0.6) +\n",
    "    labs(x = \"Cholesterol Level (mg/dL)\", y = \"Age (years)\", color = \"CAD Diagnosis\", caption = \"figure 3\") +\n",
    "    ggtitle(\"Relationship Between Blood Cholesterol Levels (mg/dL) and Patient Age (years) in CAD Predictions\")\n",
    "\n",
    "age_resting_bp_plot <- heart_test_predictions |>\n",
    "    ggplot(aes(x = resting_bp, y = age, color = healthy)) +\n",
    "    geom_point(alpha = 0.6) +\n",
    "    labs(x = \"Resting Blood Pressure (mmHg)\", y = \"Age (years)\", color = \"CAD Diagnosis\", caption = \"figure 4\")+\n",
    "    ggtitle(\"Relationship Between Resting Blood Pressure (mmHg) and Patient Age (years) in CAD Predictions\")\n",
    "\n",
    "age_max_heart_rate_plot <- heart_test_predictions |>\n",
    "    ggplot(aes(x = max_heart_rate, y = age, color = healthy)) +\n",
    "    geom_point(alpha = 0.6) +\n",
    "    labs(x = \"Max Heart Rate (BPM)\", y = \"Age (years)\", color = \"CAD Diagnosis\", caption = \"figure 5\") +\n",
    "    ggtitle(\"Relationship Between Maximum  Heart Rate (BPM) and Age (years) of the Patient in CAD Predictions\")\n",
    "\n",
    "resting_bp_cholesterol_plot <- heart_test_predictions |>\n",
    "    ggplot(aes(x = resting_bp, y = cholesterol, color = healthy)) +\n",
    "    geom_point(alpha = 0.6) +\n",
    "    labs(x = \"Resting Blood Pressure (mmHg)\", y = \"Cholesterol Level (mg/dL)\", color = \"CAD Diagnosis\", caption = \"figure 6\")+\n",
    "    ggtitle(\"Relationship Between Resting Blood Pressure (mmHg) and Blood Cholesterol Levels (mg/dL) in CAD Predictions\")\n",
    "\n",
    "max_heart_rate_cholesterol_plot <- heart_test_predictions |>\n",
    "    ggplot(aes(x = max_heart_rate, y = cholesterol, color = healthy)) +\n",
    "    geom_point(alpha = 0.6) +\n",
    "    labs(x = \"Max Heart Rate (BPM)\", y = \"Cholesterol Level (md/dL)\", color = \"CAD Diagnosis\", caption = \"figure 7\")+\n",
    "    ggtitle(\"Relationship Between Maximum Heart Rate (BPM) and Blood Cholesterol Levels (mg/dL) in CAD Predictions\")\n",
    "\n",
    "resting_bp_max_heart_rate_plot <- heart_test_predictions |>\n",
    "    ggplot(aes(x = max_heart_rate, y = resting_bp, color = healthy)) +\n",
    "    geom_point(alpha = 0.6) +\n",
    "    labs(x = \"Max Heart Rate (BPM)\", y = str_wrap(\"Resting Blood Pressure (mmHg)\", width = 20), color = \"CAD Diagnosis\", caption = \"figure 8\")+\n",
    "    ggtitle(\"Relationship Between Maximum Heart Rate (BPM) and Resting Blood Pressure (mmHg) in CAD Predictions\")"
   ]
  },
  {
   "cell_type": "code",
   "execution_count": null,
   "id": "8806ea9b-3b27-497a-affc-f126f5478fd2",
   "metadata": {
    "tags": []
   },
   "outputs": [],
   "source": [
    "options(repr.plot.width = 8, repr.plot.height = 7)\n",
    "\n",
    "scatter_plot_panel <- plot_grid(age_cholesterol_plot, \n",
    "                                age_max_heart_rate_plot, \n",
    "                                age_resting_bp_plot,\n",
    "                                max_heart_rate_cholesterol_plot, \n",
    "                                resting_bp_max_heart_rate_plot, \n",
    "                                resting_bp_cholesterol_plot,ncol = 2, nrow = 3)\n",
    "\n",
    "scatter_plot_panel"
   ]
  },
  {
   "cell_type": "markdown",
   "id": "e9361703-f0ce-42e9-a84d-088283565a63",
   "metadata": {},
   "source": [
    "### Discussion:\n",
    "\n",
    "None of the scatterplots show obvious relationships between any of the predictor variables and whether the individual has CAD (sick) or is healthy. In Figure 5, most of the data falls between 100 to 140 mmHg and between roughly 40 to 70 years of age. While it is possible that two groups have formed in the data, in other words within the same blood pressure range, sick diagnoses are predicted at higher ages and healthy diagnoses are predicted at lower ranges, determining whether the formation of these groups is significant (and whether they are present from the outset) would require more analysis. Regardless, because the diagnoses for each phenotype are made irrespective of blood pressure, this suggests that blood pressure is not strongly correlated with age in determining the presence or absence of CAD.\n",
    "\n",
    "In Figure 3, most data points fall roughly within 40 to 70 years of age and between 200 to 300 mg/dL of serum cholesterol in the blood. However, within this region, there are not clear subgroups for sick or healthy individuals. Similarly, in Figure 4, most of the data falls within ages 40 to 70 and between heart rates of 100 to 200 BPM. Two groups appear to have formed; there are a greater proportion of “sick” observations at higher ages and lower maximum heart rates, and a greater proportion of “healthy” observations at lower ages and higher maximum heart rates. However, the formation of these groups is weak. Drawing more definite inferences about the correlation between these variables and the presence of heart disease would necessitate further analysis to determine the significance of these results. If determined to be significant, it may suggest a positive correlation between age and maximum heart rate that could be used to help predict heart disease.\n",
    "\n",
    "The distribution of data in Figure 6 shows heart rates between 100 and 175 BPM and cholesterol levels ranging mainly from 175 to 350 mg/dL. No distinction can be made about healthy and sick individuals based on the comparison of these two parameters alone. Similar conclusions can be made about Figure 8, in which most of the resting blood pressure data falls between 100 to 160 mmHg, and cholesterol levels between 175 to 350 mg/dL.\n",
    "\n",
    "The last scatterplot, Figure 7, shows all of the resting blood pressure data clustering within 100 to 160 mmHg, and maximum heart rates from 100 to 200 BPM. Although more healthy observations tend to be clustered at higher maximum heart rates and more sick observations at lower maximum heart rates, the relative differences between these two are minimal. More observations would likely be needed to determine if it is statistically significant.\n",
    "\n",
    "Overall, the scatterplots suggest that while age and maximum heart rate may show small degrees of positive correlation with CAD diagnosis relative to the other physiological parameters used in this analysis, the extent of this relationship is minimal and more research is needed to determine whether these results are significant. External research suggests that these predictors are correlated with a CAD diagnosis (CDC, 2021). It is possible that the relationships between these variables in the human body and CAD are more complex and overlapping, making them hard to distinguish in scatterplots. Further casual and mechanistic data analysis questions would be beneficial to uncover these relationships.\n",
    "\n",
    "The confusion matrix, as well as Figure 2 demonstrate the correct and incorrect “healthy” and “sick” predictions for observations in the testing set. The accuracy of the classifier is 67%, as it correctly predicted 51 out of 76 heart disease cases, which superficially suggests that it made a handful of mistakes in its ability to predict whether patients had heart disease. The model’s precision is 71%, meaning that out of all of the “sick” predictions it made, it correctly identified that 17 patients out of 24 were actually sick. In practice, even though this suggests that the model is not entirely correct, this is not the worst outcome. It is better for healthy patients to receive further attention and medical analysis before contracting CAD than not at all, although it may put a strain on healthcare resources. However, the recall of the classifier is 49% indicating that the model incorrectly evaluated more than half of the actual patients (51%) with coronary artery disease in the test as “healthy”. Misclassifying a sick patient with heart disease is a dire, possibly fatal mistake. \n",
    "\n",
    "Overall, the classifier is not necessarily the best model for identifying sick individuals due to its high rates of misclassification. In particular, the model would have been much better had it had higher recall as it is more important in this case. This goal may come at the expense of higher precision, but as iterated throughout this analysis, in fatal circumstances, it is better to overpredict than to underpredict. This idea also poses interesting concerns about using models to diagnose diseases with rapid and severe implications for the patient, and highlights the importance of human input in diagnostic healthcare."
   ]
  },
  {
   "cell_type": "markdown",
   "id": "1e05fcdb-4873-4750-a989-014bb274ed54",
   "metadata": {},
   "source": [
    "### Conclusion, Future Questions, & Further Directions\n",
    "\n",
    "In conclusion, this classification model aims to answer whether the diagnosis of CAD could be accurately predicted based on patient physiological parameters. It is found that none of the predicting parameters analyzed in the study are a strong predictor of CAD, despite variables like age and maximum heart rate showing very weak positive correlation. However, the cumulative effect of having multiple risk factors is unknown and may indicate a significant risk of CAD and it indicates that it is still worth watching out for these variables. These findings are crucial as they provide insight as to what factors could be used by physicians to diagnose CAD before it is too late for treatment. Specifically, the findings show that there is no one factor that physicians can use for diagnosis, and that a multitude of factors and their connection need to be analyzed. This can also be used to provide information to the general public about physiological parameters they need to observe about themselves in order to prevent the development of CAD.\n",
    "\n",
    " Interesting questions arise from the relative absence of an effect between any of the two parameters chosen and a CAD diagnosis. Firstly, what mechanisms explain why age, resting blood pressure, cholesterol levels, and maximum heart rate are not valid single predictors of cardiac risk? One possibility from the literature indicates that diet plays a large role. If this is the case, is it possible that any dietary components may be successful single predictors? Secondly, is it possible that diversity in patient background (e.g. sex, ethnicity, socioeconomic status, geographical location) contributed too many uncontrolled variables? If so, how might this contribute to physiological differences between patients? \n",
    "\n",
    "These questions provide a basis for further work using similar methods outlined above. Environmental and lifestyle factors (other than exercise), such as number of calories consumed per day or number of hours slept per night could be useful as additional predictors of CAD. Execution may require the synthesis of data from multiple data sets or conducting new studies altogether. "
   ]
  },
  {
   "cell_type": "markdown",
   "id": "4ef4037d-f807-4e30-92d3-93cb22669c6b",
   "metadata": {},
   "source": [
    "### References\n",
    "\n",
    "(1) Centres for Disease Control and Prevention. (2021, July 19). Coronary Artery Disease: Causes, Diagnosis & Prevention. Centres for Disease Control and Prevention; U.S. Department of Health & Human Services. https://www.cdc.gov/heartdisease/coronary_ad.html\n",
    "\n",
    "(2) Spencer, R., Thabtah, F., Abdelhamid, N., & Thompson, M. (2020). Exploring feature selection and classification methods for predicting heart disease. DIGITAL HEALTH, 6, 205520762091477. https://doi.org/10.1177/2055207620914777\n",
    "\n",
    "(3) Janosti, A. (1988, June 30). UCI Machine Learning Repository. Archive.ics.uci.edu. https://archive.ics.uci.edu/dataset/45/heart+disease"
   ]
  },
  {
   "cell_type": "code",
   "execution_count": null,
   "id": "55b30998-29a4-470e-b541-b08bac92ca8a",
   "metadata": {},
   "outputs": [],
   "source": []
  }
 ],
 "metadata": {
  "kernelspec": {
   "display_name": "R",
   "language": "R",
   "name": "ir"
  },
  "language_info": {
   "codemirror_mode": "r",
   "file_extension": ".r",
   "mimetype": "text/x-r-source",
   "name": "R",
   "pygments_lexer": "r",
   "version": "4.3.1"
  }
 },
 "nbformat": 4,
 "nbformat_minor": 5
}
